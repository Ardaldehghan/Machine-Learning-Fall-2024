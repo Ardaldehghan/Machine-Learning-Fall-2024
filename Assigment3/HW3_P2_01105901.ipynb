{
  "cells": [
    {
      "cell_type": "markdown",
      "metadata": {
        "id": "havFsrqzlXPy"
      },
      "source": [
        "# Optimization Techniques on MNIST Dataset\n",
        "This notebook explores various optimization techniques for training neural networks on the MNIST dataset. The focus will be on different optimization strategies including Adaptive Learning Rates, SGD, Mini-Batch Gradient Descent, and Learning Rate Adjustments. Each section will provide a practical task related to these techniques."
      ]
    },
    {
      "cell_type": "markdown",
      "source": [
        "Amirardalan Dehghanpour 401105901"
      ],
      "metadata": {
        "id": "0-PXpRJ9St7m"
      }
    },
    {
      "cell_type": "code",
      "execution_count": 40,
      "metadata": {
        "id": "ywjE9LpmlXP1"
      },
      "outputs": [],
      "source": [
        "import tensorflow as tf\n",
        "import numpy as np\n",
        "import matplotlib.pyplot as plt\n",
        "\n",
        "# Load Fashion MNIST dataset\n",
        "(x_train, y_train), (x_test, y_test) = tf.keras.datasets.fashion_mnist.load_data()\n",
        "\n",
        "# Normalize data\n",
        "x_train, x_test = x_train / 255.0, x_test / 255.0\n",
        "\n",
        "# One-hot encode labels\n",
        "y_train = tf.keras.utils.to_categorical(y_train, 10)\n",
        "y_test = tf.keras.utils.to_categorical(y_test, 10)"
      ]
    },
    {
      "cell_type": "markdown",
      "metadata": {
        "id": "3zJIeoFZYoa6"
      },
      "source": [
        "## Adaptive Learning Rates"
      ]
    },
    {
      "cell_type": "markdown",
      "metadata": {
        "id": "4rNvoHEDlXP2"
      },
      "source": [
        "## Implementing a Simple Neural Network from Scratch"
      ]
    },
    {
      "cell_type": "markdown",
      "metadata": {
        "id": "8IMMs-s6lXP2"
      },
      "source": [
        "### Building the Network\n",
        "Define the architecture of a simple feedforward neural network with one hidden layer. You will need to manually initialize the weights and biases.\n",
        "\n",
        "**TODO:** Initialize Parameters\n",
        "Objective: Create a function to initialize weights and biases for all layers of the network.\n",
        "Instructions:\n",
        "- Initialize weights with small random values and biases with zeros.\n",
        "- Use numpy for creating arrays and operations.\n",
        "\n",
        "Hint: Use np.random.randn for weights and np.zeros for biases. Scale weights by 0.1."
      ]
    },
    {
      "cell_type": "code",
      "execution_count": 50,
      "metadata": {
        "id": "HEUr0figlXP3"
      },
      "outputs": [],
      "source": [
        "def initialize_parameters(input_size, hidden_size, output_size):\n",
        "    \"\"\"\n",
        "    Initialize weights and biases for a simple feedforward neural network.\n",
        "\n",
        "    Parameters:\n",
        "    - input_size: Number of input features.\n",
        "    - hidden_size: Number of neurons in the hidden layer.\n",
        "    - output_size: Number of output classes.\n",
        "\n",
        "    Returns:\n",
        "    - parameters: A dictionary containing weights and biases.\n",
        "    \"\"\"\n",
        "    np.random.seed(42)\n",
        "    params={\n",
        "        \"W1\": np.random.randn(hidden_size, input_size) * 0.1,\n",
        "        \"b1\": np.zeros((hidden_size, 1)),\n",
        "        \"W2\": np.random.randn(output_size, hidden_size) * 0.1,\n",
        "        \"b2\": np.zeros((output_size, 1))\n",
        "    }\n",
        "    return params\n"
      ]
    },
    {
      "cell_type": "markdown",
      "metadata": {
        "id": "bDvfRCVq-74-"
      },
      "source": [
        "\n",
        "TODO: Define Activation Functions\n",
        "Objective: Implement commonly used activation functions.\n",
        "Instructions:\n",
        " - Define the ReLU and Sigmoid activation functions.\n",
        " - Ensure each function works with numpy arrays and supports both forward and derivative (gradient) computations.\n"
      ]
    },
    {
      "cell_type": "code",
      "execution_count": 51,
      "metadata": {
        "id": "qIBwOlH6_Jg4"
      },
      "outputs": [],
      "source": [
        "def relu(x):\n",
        "    \"\"\"\n",
        "    ReLU activation function.\n",
        "\n",
        "    Parameters:\n",
        "    - x: Input numpy array.\n",
        "\n",
        "    Returns:\n",
        "    - Output after applying ReLU.\n",
        "    \"\"\"\n",
        "    return np.maximum(0,x)\n",
        "def relu_derivative(x):\n",
        "    \"\"\"\n",
        "    Derivative of ReLU activation function.\n",
        "\n",
        "    Parameters:\n",
        "    - x: Input numpy array.\n",
        "\n",
        "    Returns:\n",
        "    - Derivative of ReLU.\n",
        "    \"\"\"\n",
        "    return (x > 0).astype(float)\n",
        "\n",
        "def sigmoid(x):\n",
        "    \"\"\"\n",
        "    Sigmoid activation function.\n",
        "\n",
        "    Parameters:\n",
        "    - x: Input numpy array.\n",
        "\n",
        "    Returns:\n",
        "    - Output after applying sigmoid.\n",
        "    \"\"\"\n",
        "    return 1/(1+ np.exp(-x))\n",
        "def sigmoid_derivative(x):\n",
        "    \"\"\"\n",
        "    Derivative of sigmoid activation function.\n",
        "\n",
        "    Parameters:\n",
        "    - x: Input numpy array.\n",
        "\n",
        "    Returns:\n",
        "    - Derivative of sigmoid.\n",
        "    \"\"\"\n",
        "    sig=sigmoid(x)\n",
        "    return sig * (1-sig)"
      ]
    },
    {
      "cell_type": "markdown",
      "metadata": {
        "id": "h6HxkvToEDjr"
      },
      "source": [
        "TODO: Perform forward propagation through the network.\n",
        "\n",
        "    Parameters:\n",
        "    - X: Input data (shape: number of examples x input size).\n",
        "    - parameters: Dictionary containing weights and biases.\n",
        "\n",
        "    Returns:\n",
        "    - A2: Output of the network (after activation).\n",
        "    - cache: Dictionary containing intermediate values for backpropagation."
      ]
    },
    {
      "cell_type": "code",
      "execution_count": 57,
      "metadata": {
        "id": "4ylVbZoXECpn"
      },
      "outputs": [],
      "source": [
        "def forward_propagation(X, parameters):\n",
        "    \"\"\"\n",
        "    Perform forward propagation through the network.\n",
        "\n",
        "    Parameters:\n",
        "    - X: Input data (shape: number of examples x input size).\n",
        "    - parameters: Dictionary containing weights and biases.\n",
        "\n",
        "    Returns:\n",
        "    - A2: Output of the network (after activation).\n",
        "    - cache: Dictionary containing intermediate values for backpropagation.\n",
        "    \"\"\"\n",
        "    W1, b1 = parameters[\"W1\"], parameters[\"b1\"]\n",
        "    W2, b2 = parameters[\"W2\"], parameters[\"b2\"]\n",
        "    Z1 = np.dot(W1, X.T) + b1\n",
        "    A1 = relu(Z1)\n",
        "    Z2 = np.dot(W2,A1) + b2\n",
        "    A2 = sigmoid(Z2)\n",
        "    cache = {\n",
        "        \"Z1\": Z1,\n",
        "        \"A1\": A1,\n",
        "        \"Z2\": Z2,\n",
        "        \"A2\": A2,\n",
        "        \"X\": X\n",
        "    }\n",
        "\n",
        "    return A2.T, cache"
      ]
    },
    {
      "cell_type": "markdown",
      "metadata": {
        "id": "-KtURRNUC_NP"
      },
      "source": [
        "TODO: Implement the loss function. Compute the categorical cross-entropy loss.\n",
        "\n",
        "    Parameters:\n",
        "    - y_true: True labels (one-hot encoded).\n",
        "    - y_pred: Predicted probabilities (output of the network).\n",
        "\n",
        "    Returns:\n",
        "    - loss: Computed loss."
      ]
    },
    {
      "cell_type": "code",
      "execution_count": 53,
      "metadata": {
        "id": "advoE8kEC-vk"
      },
      "outputs": [],
      "source": [
        "def compute_loss(y_true, y_pred):\n",
        "    \"\"\"\n",
        "    Compute the categorical cross-entropy loss.\n",
        "\n",
        "    Parameters:\n",
        "    - y_true: True labels (one-hot encoded).\n",
        "    - y_pred: Predicted probabilities (output of the network).\n",
        "\n",
        "    Returns:\n",
        "    - loss: Computed loss.\n",
        "    \"\"\"\n",
        "    epsilon = 1e-12\n",
        "    y_pred = np.clip(y_pred, epsilon, 1 - epsilon)\n",
        "    loss = -np.sum(y_true * np.log(y_pred)) / y_true.shape[0]\n",
        "    return loss\n"
      ]
    },
    {
      "cell_type": "markdown",
      "metadata": {
        "id": "s5V1D0jUDK3B"
      },
      "source": [
        "TODO: Implement backpropagation for the network and Perform backward propagation through the network.\n",
        "\n",
        "    Parameters:\n",
        "    - X: Input data.\n",
        "    - y_true: True labels.\n",
        "    - parameters: Dictionary containing weights and biases.\n",
        "    - cache: Intermediate values from forward propagation.\n",
        "\n",
        "    Returns:\n",
        "    - gradients: Dictionary containing gradients for weights and biases."
      ]
    },
    {
      "cell_type": "code",
      "execution_count": 54,
      "metadata": {
        "id": "4CxAo9FlBG18"
      },
      "outputs": [],
      "source": [
        "def backward_propagation(X, y_true, parameters, cache):\n",
        "    \"\"\"\n",
        "    Perform backward propagation through the network.\n",
        "\n",
        "    Parameters:\n",
        "    - X: Input data.\n",
        "    - y_true: True labels.\n",
        "    - parameters: Dictionary containing weights and biases.\n",
        "    - cache: Intermediate values from forward propagation.\n",
        "\n",
        "    Returns:\n",
        "    - gradients: Dictionary containing gradients for weights and biases.\n",
        "    \"\"\"\n",
        "    gradients = {}\n",
        "    A1, A2, Z1, Z2 = cache[\"A1\"], cache[\"A2\"], cache[\"Z1\"], cache[\"Z2\"]\n",
        "    m = y_true.shape[0]\n",
        "    W2 = parameters[\"W2\"]\n",
        "    dA2 = A2 - y_true.T\n",
        "    dZ2 = dA2\n",
        "    dW2 = np.dot(dZ2, A1.T) /m\n",
        "    db2 = np.sum(dZ2, axis=1, keepdims=True) /m\n",
        "    dA1 = np.dot(W2.T, dZ2)\n",
        "    dZ1 = dA1 * relu_derivative(Z1)\n",
        "    dW1 = np.dot(dZ1, X)\n",
        "    db1 = np.sum(dZ1, axis=1, keepdims=True)\n",
        "    gradients = {\n",
        "        \"W1\": dW1,\n",
        "        \"b1\": db1,\n",
        "        \"W2\": dW2,\n",
        "        \"b2\": db2\n",
        "    }\n",
        "\n",
        "    return gradients\n"
      ]
    },
    {
      "cell_type": "markdown",
      "metadata": {
        "id": "LG2cvi3DDe4Q"
      },
      "source": [
        "TODO: Update the parameters using gradient descent.\n",
        "\n",
        "    Parameters:\n",
        "    - parameters: Current weights and biases.\n",
        "    - gradients: Calculated gradients.\n",
        "    - learning_rate: Learning rate for updates.\n",
        "\n",
        "    Returns:\n",
        "    - parameters: Updated weights and biases."
      ]
    },
    {
      "cell_type": "code",
      "execution_count": 55,
      "metadata": {
        "id": "9uMGXPGqDdk4"
      },
      "outputs": [],
      "source": [
        "def update_parameters(parameters, gradients, learning_rate=0.01):\n",
        "    \"\"\"\n",
        "    Update parameters using gradient descent.\n",
        "\n",
        "    Parameters:\n",
        "    - parameters: Current weights and biases.\n",
        "    - gradients: Calculated gradients.\n",
        "    - learning_rate: Learning rate for updates.\n",
        "\n",
        "    Returns:\n",
        "    - parameters: Updated weights and biases.\n",
        "    \"\"\"\n",
        "    for key in parameters.keys():\n",
        "      parameters[key] -= learning_rate * gradients[key]\n",
        "    return parameters"
      ]
    },
    {
      "cell_type": "markdown",
      "metadata": {
        "id": "5E4UZg1SD2bM"
      },
      "source": [
        "TODO: Train the model by changing the hidden layer size (such as [32, 64, 128]) and observe the impact on network performance during training.\n",
        "\n",
        "    Train the neural network model.\n",
        "\n",
        "    Parameters:\n",
        "    - X_train: Training data.\n",
        "    - y_train: One-hot encoded labels.\n",
        "    - hidden_size: Number of neurons in the hidden layer.\n",
        "    - epochs: Number of training epochs.\n",
        "    - learning_rate: Learning rate for optimization."
      ]
    },
    {
      "cell_type": "code",
      "execution_count": 56,
      "metadata": {
        "colab": {
          "base_uri": "https://localhost:8080/"
        },
        "id": "GlsAvdUCDzSb",
        "outputId": "c5cb46eb-861c-453e-e227-39daf5b4b4c2"
      },
      "outputs": [
        {
          "output_type": "stream",
          "name": "stdout",
          "text": [
            "Training with hidden layer size: 32\n"
          ]
        },
        {
          "output_type": "stream",
          "name": "stderr",
          "text": [
            "<ipython-input-51-42886578c5f9>:34: RuntimeWarning: overflow encountered in exp\n",
            "  return 1/(1+ np.exp(-x))\n"
          ]
        },
        {
          "output_type": "stream",
          "name": "stdout",
          "text": [
            "Epoch 10/50, Loss: 0.7092\n",
            "Epoch 20/50, Loss: 0.7291\n",
            "Epoch 30/50, Loss: 0.7488\n",
            "Epoch 40/50, Loss: 0.7684\n",
            "Epoch 50/50, Loss: 0.7879\n",
            "Training with hidden layer size: 64\n",
            "Epoch 10/50, Loss: 0.7106\n",
            "Epoch 20/50, Loss: 0.7307\n",
            "Epoch 30/50, Loss: 0.7505\n",
            "Epoch 40/50, Loss: 0.7701\n",
            "Epoch 50/50, Loss: 0.7896\n",
            "Training with hidden layer size: 128\n",
            "Epoch 10/50, Loss: 0.7094\n",
            "Epoch 20/50, Loss: 0.7293\n",
            "Epoch 30/50, Loss: 0.7479\n",
            "Epoch 40/50, Loss: 0.7686\n",
            "Epoch 50/50, Loss: 0.7880\n"
          ]
        }
      ],
      "source": [
        "# Training Loop\n",
        "def train_model(X_train, y_train, hidden_size, epochs=50, learning_rate=0.01):\n",
        "    \"\"\"\n",
        "    Train the neural network model.\n",
        "\n",
        "    Parameters:\n",
        "    - X_train: Training data.\n",
        "    - y_train: One-hot encoded labels.\n",
        "    - hidden_size: Number of neurons in the hidden layer.\n",
        "    - epochs: Number of training epochs.\n",
        "    - learning_rate: Learning rate for optimization.\n",
        "    \"\"\"\n",
        "    parameters=initialize_parameters(X_train.shape[1],hidden_size,y_train.shape[1])\n",
        "    loss_history = []\n",
        "    for epoch in range(0,epochs):\n",
        "      A2,cache = forward_propagation(X_train,parameters)\n",
        "      loss = compute_loss(y_train, A2)\n",
        "      loss_history.append(loss)\n",
        "      gradients = backward_propagation(X_train, y_train, parameters, cache)\n",
        "      parameters=update_parameters(parameters,gradients,learning_rate)\n",
        "      if (epoch + 1) % 10 == 0:\n",
        "        print(f\"Epoch {epoch + 1}/{epochs}, Loss: {loss:.4f}\")\n",
        "hid=[32,64,128]\n",
        "X=x_train.reshape(x_train.shape[0], -1)\n",
        "for hidden_size in hid:\n",
        "  print(f\"Training with hidden layer size: {hidden_size}\")\n",
        "  train_model(X,y_train,hidden_size,50,0.01)\n"
      ]
    },
    {
      "cell_type": "markdown",
      "metadata": {
        "id": "YuCNlJCHKf1S"
      },
      "source": [
        "TODO: Implement Adam Optimizer\n",
        "\n",
        "1. Initialize Parameters: Create variables to store the moment estimates (first and second) for each parameter.\n",
        "\n",
        "    Parameters:\n",
        "    - parameters: Dictionary containing weights and biases.\n",
        "\n",
        "    Returns:\n",
        "    - v: First moment vector (initialized to zeros).\n",
        "    - s: Second moment vector (initialized to zeros).\n",
        "    - t: Time step (initialized to 0).\n",
        "\n",
        "2. Update Rules: Implement the update rules based on the gradients, learning rate, and moment estimates.\n"
      ]
    },
    {
      "cell_type": "code",
      "execution_count": 48,
      "metadata": {
        "id": "Iqy1_rfsKP8b"
      },
      "outputs": [],
      "source": [
        "def initialize_adam(parameters):\n",
        "    \"\"\"\n",
        "    Initialize the Adam optimizer variables.\n",
        "\n",
        "    Parameters:\n",
        "    - parameters: Dictionary containing weights and biases.\n",
        "\n",
        "    Returns:\n",
        "    - v: First moment vector (initialized to zeros).\n",
        "    - s: Second moment vector (initialized to zeros).\n",
        "    - t: Time step (initialized to 0).\n",
        "    \"\"\"\n",
        "    v = {}\n",
        "    s = {}\n",
        "    t = 0\n",
        "    for key in parameters:\n",
        "        if key.startswith(\"W\"):  # Initialize moment vectors for weights\n",
        "            v[key] = np.zeros_like(parameters[key])  # Shape of the weights\n",
        "            s[key] = np.zeros_like(parameters[key])  # Shape of the weights\n",
        "        elif key.startswith(\"b\"):  # Initialize moment vectors for biases\n",
        "            v[key] = np.zeros_like(parameters[key])  # Shape of the biases\n",
        "            s[key] = np.zeros_like(parameters[key])  # Shape of the biases\n",
        "\n",
        "    return v, s, t\n",
        "\n",
        "\n",
        "def update_parameters_with_adam(parameters, gradients, v, s, t, learning_rate=0.001, beta1=0.9, beta2=0.999, epsilon=1e-8):\n",
        "    \"\"\"\n",
        "    Update parameters using the Adam optimizer.\n",
        "\n",
        "    Parameters:\n",
        "    - parameters: Current weights and biases.\n",
        "    - gradients: Calculated gradients.\n",
        "    - v: First moment vector.\n",
        "    - s: Second moment vector.\n",
        "    - t: Time step.\n",
        "    - learning_rate: Learning rate for updates.\n",
        "    - beta1: Exponential decay rate for the first moment estimates.\n",
        "    - beta2: Exponential decay rate for the second moment estimates.\n",
        "    - epsilon: Small constant for numerical stability.\n",
        "\n",
        "    Returns:\n",
        "    - parameters: Updated weights and biases.\n",
        "    - v: Updated first moment vector.\n",
        "    - s: Updated second moment vector.\n",
        "    - t: Updated time step.\n",
        "    \"\"\"\n",
        "    v_corrected = {}\n",
        "    s_corrected = {}\n",
        "    t += 1\n",
        "    for key in parameters:\n",
        "        v[key] = beta1 * v[key] + (1 - beta1) * gradients[key]\n",
        "        s[key] = beta2 * s[key] + (1 - beta2) * (gradients[key] ** 2)\n",
        "\n",
        "        v_corrected[key] = v[key] / (1 - beta1 ** t)\n",
        "        s_corrected[key] = s[key] / (1 - beta2 ** t)\n",
        "\n",
        "        parameters[key] -= learning_rate * v_corrected[key] / (np.sqrt(s_corrected[key]) + epsilon)\n",
        "\n",
        "    return parameters, v, s, t\n"
      ]
    },
    {
      "cell_type": "markdown",
      "metadata": {
        "id": "-mU6NQXdLQd_"
      },
      "source": [
        "TODO: Implement Adam optimizer into the training loop."
      ]
    },
    {
      "cell_type": "code",
      "execution_count": 59,
      "metadata": {
        "colab": {
          "base_uri": "https://localhost:8080/"
        },
        "id": "NMPqxphzKSv8",
        "outputId": "2c7daf65-1ed4-4206-962d-aa36380d8333"
      },
      "outputs": [
        {
          "output_type": "stream",
          "name": "stdout",
          "text": [
            "Training adam with hidden layer size: 32\n",
            "Epoch 10/50, Loss: 1.2157\n",
            "Epoch 20/50, Loss: 2.0172\n",
            "Epoch 30/50, Loss: 1.9438\n",
            "Epoch 40/50, Loss: 1.5242\n",
            "Epoch 50/50, Loss: 1.3879\n",
            "Training adam with hidden layer size: 64\n",
            "Epoch 10/50, Loss: 1.6724\n",
            "Epoch 20/50, Loss: 1.8827\n",
            "Epoch 30/50, Loss: 1.2529\n",
            "Epoch 40/50, Loss: 1.0243\n",
            "Epoch 50/50, Loss: 0.9257\n",
            "Training adam with hidden layer size: 128\n",
            "Epoch 10/50, Loss: 2.1329\n",
            "Epoch 20/50, Loss: 1.2393\n",
            "Epoch 30/50, Loss: 0.9263\n",
            "Epoch 40/50, Loss: 0.8782\n",
            "Epoch 50/50, Loss: 0.7939\n"
          ]
        }
      ],
      "source": [
        "def train_model_with_adam(X_train, y_train, hidden_size, epochs=50, learning_rate=0.001):\n",
        "    \"\"\"\n",
        "    Train the neural network model using Adam optimizer.\n",
        "\n",
        "    Parameters:\n",
        "    - X_train: Training data.\n",
        "    - y_train: One-hot encoded labels.\n",
        "    - hidden_size: Number of neurons in the hidden layer.\n",
        "    - epochs: Number of training epochs.\n",
        "    - learning_rate: Learning rate for optimization.\n",
        "    \"\"\"\n",
        "    parameters=initialize_parameters(X_train.shape[1],hidden_size,y_train.shape[1])\n",
        "    loss_history = []\n",
        "    v,s,t=initialize_adam(parameters)\n",
        "    for epoch in range(0,epochs):\n",
        "      A2,cache = forward_propagation(X_train,parameters)\n",
        "      loss = compute_loss(y_train, A2)\n",
        "      loss_history.append(loss)\n",
        "      gradients = backward_propagation(X_train, y_train, parameters, cache)\n",
        "      parameters,v,s,t=update_parameters_with_adam(parameters,gradients,v,s,t,learning_rate=0.001, beta1=0.9, beta2=0.999, epsilon=1e-8)\n",
        "      if (epoch + 1) % 10 == 0:\n",
        "        print(f\"Epoch {epoch + 1}/{epochs}, Loss: {loss:.4f}\")\n",
        "hid=[32,64,128]\n",
        "X=x_train.reshape(x_train.shape[0], -1)\n",
        "for hidden_size in hid:\n",
        "  print(f\"Training adam with hidden layer size: {hidden_size}\")\n",
        "  train_model_with_adam(X,y_train,hidden_size,50,0.01)"
      ]
    },
    {
      "cell_type": "markdown",
      "metadata": {
        "id": "fEZVkGGplXP4"
      },
      "source": [
        "### Compare Adam and RMSprop\n"
      ]
    },
    {
      "cell_type": "markdown",
      "metadata": {
        "id": "7BxQoqf8ak2k"
      },
      "source": [
        "TODO: First, implement the RMSprop optimizer. The RMSprop optimizer uses a moving average of squared gradients to normalize the gradient, which helps to stabilize the updates."
      ]
    },
    {
      "cell_type": "code",
      "execution_count": 60,
      "metadata": {
        "id": "117xMpE6avQ2"
      },
      "outputs": [],
      "source": [
        "def initialize_rmsprop(parameters):\n",
        "    \"\"\"\n",
        "    Initialize the RMSprop variables.\n",
        "\n",
        "    Parameters:\n",
        "    - parameters: Dictionary containing weights and biases.\n",
        "\n",
        "    Returns:\n",
        "    - s: Second moment vector (initialized to zeros).\n",
        "    \"\"\"\n",
        "    s = {}\n",
        "    for key in parameters:\n",
        "        if key.startswith(\"W\"):\n",
        "            s[key] = np.zeros_like(parameters[key])\n",
        "        elif key.startswith(\"b\"):\n",
        "            s[key] = np.zeros_like(parameters[key])\n",
        "\n",
        "    return s\n",
        "\n",
        "def update_parameters_with_rmsprop(parameters, gradients, s, learning_rate=0.001, beta=0.9, epsilon=1e-8):\n",
        "    \"\"\"\n",
        "    Update parameters using the RMSprop optimizer.\n",
        "\n",
        "    Parameters:\n",
        "    - parameters: Current weights and biases.\n",
        "    - gradients: Calculated gradients.\n",
        "    - s: Second moment vector.\n",
        "    - learning_rate: Learning rate for updates.\n",
        "    - beta: Exponential decay rate for the second moment estimates.\n",
        "    - epsilon: Small constant for numerical stability.\n",
        "\n",
        "    Returns:\n",
        "    - parameters: Updated weights and biases.\n",
        "    - s: Updated second moment vector.\n",
        "    \"\"\"\n",
        "    for key in parameters:\n",
        "        s[key] = beta * s[key] + (1 - beta) * (gradients[key] ** 2)\n",
        "        parameters[key] -= learning_rate * gradients[key] / (np.sqrt(s[key]) + epsilon)\n",
        "\n",
        "    return parameters, s\n"
      ]
    },
    {
      "cell_type": "markdown",
      "metadata": {
        "id": "GWJg1GjFayY2"
      },
      "source": [
        "TODO: Modify the training loop to allow for both optimizers and store the loss history for comparison."
      ]
    },
    {
      "cell_type": "code",
      "execution_count": 61,
      "metadata": {
        "id": "iwcuRTkja5pT"
      },
      "outputs": [],
      "source": [
        "def train_model(X_train, y_train, hidden_size, epochs=50, learning_rate=0.001, optimizer='adam'):\n",
        "    \"\"\"\n",
        "    Train the neural network model using specified optimizer.\n",
        "\n",
        "    Parameters:\n",
        "    - X_train: Training data.\n",
        "    - y_train: One-hot encoded labels.\n",
        "    - hidden_size: Number of neurons in the hidden layer.\n",
        "    - epochs: Number of training epochs.\n",
        "    - learning_rate: Learning rate for optimization.\n",
        "    - optimizer: The optimizer to use ('adam' or 'rmsprop').\n",
        "\n",
        "    Returns:\n",
        "    - loss_history: List of loss values over epochs.\n",
        "    \"\"\"\n",
        "    parameters=initialize_parameters(X_train.shape[1],hidden_size,y_train.shape[1])\n",
        "    loss_history = []\n",
        "    if(optimizer=='adam'):\n",
        "      v,s,t=initialize_adam(parameters)\n",
        "      for epoch in range(0,epochs):\n",
        "        A2,cache = forward_propagation(X_train,parameters)\n",
        "        loss = compute_loss(y_train, A2)\n",
        "        loss_history.append((epoch,loss))\n",
        "        gradients = backward_propagation(X_train, y_train, parameters, cache)\n",
        "        parameters,v,s,t=update_parameters_with_adam(parameters,gradients,v,s,t,learning_rate=0.001, beta1=0.9, beta2=0.999, epsilon=1e-8)\n",
        "        if (epoch + 1) % 10 == 0:\n",
        "          print(f\"adam  Epoch {epoch + 1}/{epochs}, Loss: {loss:.4f}\")\n",
        "    elif(optimizer=='rmsprop'):\n",
        "      s=initialize_rmsprop(parameters)\n",
        "      for epoch in range(0,epochs):\n",
        "        A2,cache = forward_propagation(X_train,parameters)\n",
        "        loss = compute_loss(y_train, A2)\n",
        "        loss_history.append((epoch,loss))\n",
        "        gradients = backward_propagation(X_train, y_train, parameters, cache)\n",
        "        parameters,s=update_parameters_with_rmsprop(parameters,gradients,s,learning_rate=0.001, beta=0.9, epsilon=1e-8)\n",
        "        if (epoch + 1) % 10 == 0:\n",
        "          print(f\"rmsprop Epoch {epoch + 1}/{epochs}, Loss: {loss:.4f}\")\n",
        "    return loss_history\n",
        "\n"
      ]
    },
    {
      "cell_type": "markdown",
      "metadata": {
        "id": "g5cPzN1ma9Xi"
      },
      "source": [
        "TODO:  Compare Both Optimizers. Create a function to train the model using both optimizers and plot the loss histories for comparison."
      ]
    },
    {
      "cell_type": "code",
      "execution_count": 62,
      "metadata": {
        "colab": {
          "base_uri": "https://localhost:8080/",
          "height": 646
        },
        "id": "-z5eRURgbDIG",
        "outputId": "aeb80c79-a440-44dd-cbe8-8b3564f86446"
      },
      "outputs": [
        {
          "output_type": "stream",
          "name": "stdout",
          "text": [
            "adam  Epoch 10/50, Loss: 2.1329\n",
            "adam  Epoch 20/50, Loss: 1.2393\n",
            "adam  Epoch 30/50, Loss: 0.9263\n",
            "adam  Epoch 40/50, Loss: 0.8782\n",
            "adam  Epoch 50/50, Loss: 0.7939\n",
            "rmsprop Epoch 10/50, Loss: 1.1947\n",
            "rmsprop Epoch 20/50, Loss: 0.9341\n",
            "rmsprop Epoch 30/50, Loss: 0.7681\n",
            "rmsprop Epoch 40/50, Loss: 0.6635\n",
            "rmsprop Epoch 50/50, Loss: 0.7462\n"
          ]
        },
        {
          "output_type": "display_data",
          "data": {
            "text/plain": [
              "<Figure size 640x480 with 1 Axes>"
            ],
            "image/png": "[encoded data removed]"
          },
          "metadata": {}
        }
      ],
      "source": [
        "def compare_optimizers(X_train, y_train, hidden_size, epochs=50):\n",
        "    \"\"\"\n",
        "    Compare the Adam and RMSprop optimizers.\n",
        "\n",
        "    Parameters:\n",
        "    - X_train: Training data.\n",
        "    - y_train: One-hot encoded labels.\n",
        "    - hidden_size: Number of neurons in the hidden layer.\n",
        "    - epochs: Number of training epochs.\n",
        "    \"\"\"\n",
        "    loss_history_adam=train_model(X_train,y_train,hidden_size, epochs=50, learning_rate=0.001, optimizer='adam')\n",
        "    loss_history_rmsprop=train_model(X_train,y_train,hidden_size, epochs=50, learning_rate=0.001, optimizer='rmsprop')\n",
        "    epoch_1, loss_1 = zip(*loss_history_adam)\n",
        "    epoch_2, loss_2 = zip(*loss_history_rmsprop)\n",
        "    plt.plot(epoch_1, loss_1, label=\"adam\", color='blue', marker='o')\n",
        "    plt.plot(epoch_2, loss_2, label=\"RMSprop\", color='yellow', marker='o')\n",
        "    plt.xlabel(\"Epochs\")\n",
        "    plt.ylabel(\"Loss\")\n",
        "    plt.title(\"Loss comparison between adam and RMSprop\")\n",
        "    plt.legend()\n",
        "    plt.show()\n",
        "hidden_size=128\n",
        "X=x_train.reshape(x_train.shape[0], -1)\n",
        "compare_optimizers(X,y_train,hidden_size,50)"
      ]
    },
    {
      "cell_type": "markdown",
      "metadata": {
        "id": "pueHFmTUlXP5"
      },
      "source": [
        "## Stochastic Gradient Descent (SGD)"
      ]
    },
    {
      "cell_type": "markdown",
      "metadata": {
        "id": "3zrSW4LilXP5"
      },
      "source": [
        "### Impact of Different Learning Rates on SGD\n"
      ]
    },
    {
      "cell_type": "markdown",
      "metadata": {
        "id": "BU9BiBsKcWjb"
      },
      "source": [
        "Explore the impact of different learning rates on the training dynamics and performance of Stochastic Gradient Descent (SGD). This will allow us to observe how the learning rate affects convergence speed, stability, and final performance.\n",
        "\n",
        "Steps for Implementing the Experiment\n",
        "\n",
        "1. Define the SGD Optimizer: Implement a simple SGD optimizer.\n",
        "2. Modify the Training Loop: Allow for different learning rates.\n",
        "3. Train the Model: Run the training process with a set of predefined learning rates.\n",
        "4. Visualize the Results: Plot the loss curves for each learning rate to compare their effects"
      ]
    },
    {
      "cell_type": "markdown",
      "metadata": {
        "id": "vDRSuNVrcvVI"
      },
      "source": [
        "1. Implement SGD Optimizer\n"
      ]
    },
    {
      "cell_type": "code",
      "execution_count": 64,
      "metadata": {
        "id": "r9UE2OHfcwCe"
      },
      "outputs": [],
      "source": [
        "def update_parameters_with_sgd(parameters, gradients, learning_rate=0.01):\n",
        "    \"\"\"\n",
        "    Update parameters using Stochastic Gradient Descent (SGD).\n",
        "\n",
        "    Parameters:\n",
        "    - parameters: Current weights and biases.\n",
        "    - gradients: Calculated gradients.\n",
        "    - learning_rate: Learning rate for updates.\n",
        "\n",
        "    Returns:\n",
        "    - parameters: Updated weights and biases.\n",
        "    \"\"\"\n",
        "    for key in parameters:\n",
        "      parameters[key] -= learning_rate * gradients[key]\n",
        "    return parameters"
      ]
    },
    {
      "cell_type": "markdown",
      "metadata": {
        "id": "O4qIjyg9cyXB"
      },
      "source": [
        "2. Modify the Training Loop\n"
      ]
    },
    {
      "cell_type": "code",
      "execution_count": 65,
      "metadata": {
        "id": "U1gKM56IdBH-"
      },
      "outputs": [],
      "source": [
        "def train_model_with_sgd(X_train, y_train, hidden_size, epochs=50, learning_rate=0.01):\n",
        "    \"\"\"\n",
        "    Train the neural network model using SGD optimizer.\n",
        "\n",
        "    Parameters:\n",
        "    - X_train: Training data.\n",
        "    - y_train: One-hot encoded labels.\n",
        "    - hidden_size: Number of neurons in the hidden layer.\n",
        "    - epochs: Number of training epochs.\n",
        "    - learning_rate: Learning rate for optimization.\n",
        "\n",
        "    Returns:\n",
        "    - loss_history: List of loss values over epochs.\n",
        "    \"\"\"\n",
        "    parameters=initialize_parameters(X_train.shape[1],hidden_size,y_train.shape[1])\n",
        "    loss_history = []\n",
        "    for epoch in range(0,epochs):\n",
        "      A2,cache = forward_propagation(X_train,parameters)\n",
        "      loss = compute_loss(y_train, A2)\n",
        "      loss_history.append((epoch,loss))\n",
        "      gradients = backward_propagation(X_train, y_train, parameters, cache)\n",
        "      parameters=update_parameters_with_sgd(parameters,gradients,learning_rate)\n",
        "      if (epoch + 1) % 10 == 0:\n",
        "        print(f\"Epoch with learning rate:{learning_rate} {epoch + 1}/{epochs}, Loss: {loss:.4f}\")\n",
        "    return loss_history"
      ]
    },
    {
      "cell_type": "markdown",
      "metadata": {
        "id": "CeQpjFQHdD4v"
      },
      "source": [
        "3. Experiment with Different Learning Rates\n"
      ]
    },
    {
      "cell_type": "code",
      "execution_count": 66,
      "metadata": {
        "colab": {
          "base_uri": "https://localhost:8080/",
          "height": 767
        },
        "id": "FvFIXxFRdGDv",
        "outputId": "beca02d7-729d-43b1-e3c6-03b8d758a197"
      },
      "outputs": [
        {
          "output_type": "stream",
          "name": "stderr",
          "text": [
            "<ipython-input-51-42886578c5f9>:34: RuntimeWarning: overflow encountered in exp\n",
            "  return 1/(1+ np.exp(-x))\n"
          ]
        },
        {
          "output_type": "stream",
          "name": "stdout",
          "text": [
            "Epoch with learning rate:0.001 10/50, Loss: 0.6698\n",
            "Epoch with learning rate:0.001 20/50, Loss: 0.6559\n",
            "Epoch with learning rate:0.001 30/50, Loss: 0.6798\n",
            "Epoch with learning rate:0.001 40/50, Loss: 0.6913\n",
            "Epoch with learning rate:0.001 50/50, Loss: 9.3898\n",
            "Epoch with learning rate:0.01 10/50, Loss: 0.7094\n",
            "Epoch with learning rate:0.01 20/50, Loss: 0.7293\n",
            "Epoch with learning rate:0.01 30/50, Loss: 0.7479\n",
            "Epoch with learning rate:0.01 40/50, Loss: 0.7686\n",
            "Epoch with learning rate:0.01 50/50, Loss: 0.7880\n",
            "Epoch with learning rate:0.1 10/50, Loss: 0.8736\n",
            "Epoch with learning rate:0.1 20/50, Loss: 1.0478\n",
            "Epoch with learning rate:0.1 30/50, Loss: 1.2005\n",
            "Epoch with learning rate:0.1 40/50, Loss: 1.3316\n",
            "Epoch with learning rate:0.1 50/50, Loss: 1.4441\n"
          ]
        },
        {
          "output_type": "display_data",
          "data": {
            "text/plain": [
              "<Figure size 640x480 with 1 Axes>"
            ],
            "image/png": "[encoded data removed]"
          },
          "metadata": {}
        }
      ],
      "source": [
        "def compare_learning_rates(X_train, y_train, hidden_size, epochs=50, learning_rates=[0.001, 0.01, 0.1]):\n",
        "    \"\"\"\n",
        "    Compare the performance of SGD with different learning rates.\n",
        "\n",
        "    Parameters:\n",
        "    - X_train: Training data.\n",
        "    - y_train: One-hot encoded labels.\n",
        "    - hidden_size: Number of neurons in the hidden layer.\n",
        "    - epochs: Number of training epochs.\n",
        "    - learning_rates: List of learning rates to test.\n",
        "    \"\"\"\n",
        "    loss_lr1 = []\n",
        "    loss_lr2 = []\n",
        "    loss_lr3 = []\n",
        "    loss_lr1 = train_model_with_sgd(X_train,y_train,hidden_size,epochs,learning_rates[0])\n",
        "    loss_lr2 = train_model_with_sgd(X_train,y_train,hidden_size,epochs,learning_rates[1])\n",
        "    loss_lr3 = train_model_with_sgd(X_train,y_train,hidden_size,epochs,learning_rates[2])\n",
        "    epoch_1, losss_1 = zip(*loss_lr1)\n",
        "    epoch_2, losss_2 = zip(*loss_lr2)\n",
        "    epoch_3, losss_3 = zip(*loss_lr3)\n",
        "    plt.plot(epoch_1, losss_1, label=\"lr=0.001\", color='blue')\n",
        "    plt.plot(epoch_2, losss_2, label=\"lr=0.01\", color='pink')\n",
        "    plt.plot(epoch_3, losss_3, label=\"lr=0.1\", color='yellow')\n",
        "    plt.xlabel(\"Epochs\")\n",
        "    plt.ylabel(\"Loss\")\n",
        "    plt.title(\"Loss comparison between different learning rates\")\n",
        "    plt.legend()\n",
        "    plt.show()\n",
        "hidden_size=128\n",
        "X=x_train.reshape(x_train.shape[0], -1)\n",
        "compare_learning_rates(X,y_train,hidden_size,50,learning_rates=[0.001, 0.01, 0.1])"
      ]
    },
    {
      "cell_type": "markdown",
      "metadata": {
        "id": "IXxuYU7llXP6"
      },
      "source": [
        "### SGD with Momentum vs. Classic SGD\n"
      ]
    },
    {
      "cell_type": "markdown",
      "metadata": {
        "id": "R8dcD51aepnC"
      },
      "source": [
        "TODO: Compare Stochastic Gradient Descent (SGD) with momentum and classic SGD, you can set up an experiment that trains the same model using both methods. This will help you observe differences in convergence speed and stability.\n",
        "\n",
        "Steps for Implementing the Comparison:\n",
        "\n",
        "1. Implement Classic SGD: Ensure you have a basic SGD implementation.(already implemented in the previous cells)\n",
        "\n",
        "2. Implement SGD with Momentum: Add a momentum version of the SGD optimizer.\n",
        "\n",
        "3. Modify the Training Loop: Allow for both optimizers in the training process.\n",
        "\n",
        "4. Train the Model: Run the training process using both optimizers.\n",
        "\n",
        "5. Visualize the Results: Plot the loss curves for each optimizer to compare their performance."
      ]
    },
    {
      "cell_type": "markdown",
      "metadata": {
        "id": "9-czqAXNe_nQ"
      },
      "source": [
        "2. Implement SGD with Momentum\n"
      ]
    },
    {
      "cell_type": "code",
      "execution_count": 67,
      "metadata": {
        "id": "8uzLkhWcfB6a"
      },
      "outputs": [],
      "source": [
        "def initialize_momentum(parameters):\n",
        "    \"\"\"\n",
        "    Initialize the momentum variables.\n",
        "\n",
        "    Parameters:\n",
        "    - parameters: Dictionary containing weights and biases.\n",
        "\n",
        "    Returns:\n",
        "    - v: Momentum variable (initialized to zeros).\n",
        "    \"\"\"\n",
        "    v = {}\n",
        "    v['W1'] = np.zeros_like(parameters['W1'])\n",
        "    v['b1'] = np.zeros_like(parameters['b1'])\n",
        "    v['W2'] = np.zeros_like(parameters['W2'])\n",
        "    v['b2'] = np.zeros_like(parameters['b2'])\n",
        "\n",
        "    return v\n",
        "\n",
        "def update_parameters_with_momentum(parameters, gradients, v, learning_rate=0.01, beta=0.9):\n",
        "    \"\"\"\n",
        "    Update parameters using SGD with momentum.\n",
        "\n",
        "    Parameters:\n",
        "    - parameters: Current weights and biases.\n",
        "    - gradients: Calculated gradients.\n",
        "    - v: Momentum variable.\n",
        "    - learning_rate: Learning rate for updates.\n",
        "    - beta: Exponential decay rate for momentum.\n",
        "\n",
        "    Returns:\n",
        "    - parameters: Updated weights and biases.\n",
        "    - v: Updated momentum variable.\n",
        "    \"\"\"\n",
        "    v['W1'] = beta * v['W1'] + (1 - beta) * gradients['W1']\n",
        "    v['b1'] = beta * v['b1'] + (1 - beta) * gradients['b1']\n",
        "    v['W2'] = beta * v['W2'] + (1 - beta) * gradients['W2']\n",
        "    v['b2'] = beta * v['b2'] + (1 - beta) * gradients['b2']\n",
        "    parameters['W1'] -= learning_rate * v['W1']\n",
        "    parameters['b1'] -= learning_rate * v['b1']\n",
        "    parameters['W2'] -= learning_rate * v['W2']\n",
        "    parameters['b2'] -= learning_rate * v['b2']\n",
        "\n",
        "    return parameters, v\n"
      ]
    },
    {
      "cell_type": "markdown",
      "metadata": {
        "id": "k_DvOLijfIFK"
      },
      "source": [
        "3. Modify the Training Loop\n"
      ]
    },
    {
      "cell_type": "code",
      "execution_count": 70,
      "metadata": {
        "id": "uz3jxDtCfIuA"
      },
      "outputs": [],
      "source": [
        "def train_model(X_train, y_train, hidden_size, epochs=50, learning_rate=0.01, optimizer='sgd'):\n",
        "    \"\"\"\n",
        "    Train the neural network model using specified optimizer.\n",
        "\n",
        "    Parameters:\n",
        "    - X_train: Training data.\n",
        "    - y_train: One-hot encoded labels.\n",
        "    - hidden_size: Number of neurons in the hidden layer.\n",
        "    - epochs: Number of training epochs.\n",
        "    - learning_rate: Learning rate for optimization.\n",
        "    - optimizer: The optimizer to use ('sgd' or 'momentum').\n",
        "    Returns:\n",
        "    - loss_history: List of loss values over epochs.\n",
        "    \"\"\"\n",
        "    loss_history = []\n",
        "    if optimizer == 'sgd':\n",
        "      parameters=initialize_parameters(X_train.shape[1],hidden_size,y_train.shape[1])\n",
        "      for epoch in range(0,epochs):\n",
        "       A2,cache = forward_propagation(X_train,parameters)\n",
        "       loss = compute_loss(y_train, A2)\n",
        "       loss_history.append((epoch,loss))\n",
        "       gradients = backward_propagation(X_train, y_train, parameters, cache)\n",
        "       parameters=update_parameters_with_sgd(parameters,gradients,learning_rate)\n",
        "       if (epoch + 1) % 10 == 0:\n",
        "        print(f\"Epoch with sgd {epoch + 1}/{epochs}, Loss: {loss:.4f}\")\n",
        "    elif optimizer == 'momentum':\n",
        "      parameters=initialize_parameters(X_train.shape[1],hidden_size,y_train.shape[1])\n",
        "      v=initialize_momentum(parameters)\n",
        "      for epoch in range(0,epochs):\n",
        "       A2,cache = forward_propagation(X_train,parameters)\n",
        "       loss = compute_loss(y_train, A2)\n",
        "       loss_history.append((epoch,loss))\n",
        "       gradients = backward_propagation(X_train, y_train, parameters, cache)\n",
        "       parameters,v=update_parameters_with_momentum(parameters,gradients,v,learning_rate,beta=0.9)\n",
        "       if (epoch + 1) % 10 == 0:\n",
        "        print(f\"Epoch with momentm {epoch + 1}/{epochs}, Loss: {loss:.4f}\")\n",
        "    return loss_history"
      ]
    },
    {
      "cell_type": "markdown",
      "metadata": {
        "id": "wVbv6XeYfLbf"
      },
      "source": [
        "4. Train the Model with Both Optimizers\n"
      ]
    },
    {
      "cell_type": "code",
      "execution_count": 71,
      "metadata": {
        "colab": {
          "base_uri": "https://localhost:8080/",
          "height": 680
        },
        "id": "0zEcNXJGfOTf",
        "outputId": "105a3594-ccff-4456-b809-d33633b72544"
      },
      "outputs": [
        {
          "output_type": "stream",
          "name": "stderr",
          "text": [
            "<ipython-input-51-42886578c5f9>:34: RuntimeWarning: overflow encountered in exp\n",
            "  return 1/(1+ np.exp(-x))\n"
          ]
        },
        {
          "output_type": "stream",
          "name": "stdout",
          "text": [
            "Epoch with sgd 10/50, Loss: 0.7094\n",
            "Epoch with sgd 20/50, Loss: 0.7293\n",
            "Epoch with sgd 30/50, Loss: 0.7479\n",
            "Epoch with sgd 40/50, Loss: 0.7686\n",
            "Epoch with sgd 50/50, Loss: 0.7880\n",
            "Epoch with momentm 10/50, Loss: 5.1981\n",
            "Epoch with momentm 20/50, Loss: 0.6975\n",
            "Epoch with momentm 30/50, Loss: 0.9500\n",
            "Epoch with momentm 40/50, Loss: 0.7594\n",
            "Epoch with momentm 50/50, Loss: 2.3444\n"
          ]
        },
        {
          "output_type": "display_data",
          "data": {
            "text/plain": [
              "<Figure size 640x480 with 1 Axes>"
            ],
            "image/png": "[encoded data removed]"
          },
          "metadata": {}
        }
      ],
      "source": [
        "def compare_sgd_and_momentum(X_train, y_train, hidden_size, epochs=50):\n",
        "    \"\"\"\n",
        "    Compare the performance of classic SGD and SGD with momentum.\n",
        "\n",
        "    Parameters:\n",
        "    - X_train: Training data.\n",
        "    - y_train: One-hot encoded labels.\n",
        "    - hidden_size: Number of neurons in the hidden layer.\n",
        "    - epochs: Number of training epochs.\n",
        "    \"\"\"\n",
        "    loss_sgd = []\n",
        "    loss_mom = []\n",
        "    loss_sgd = train_model(X_train,y_train,hidden_size,epochs,0.01,'sgd')\n",
        "    loss_mom = train_model(X_train,y_train,hidden_size,epochs,0.01,'momentum')\n",
        "    epoch_1, losss_1 = zip(*loss_sgd)\n",
        "    epoch_2, losss_2 = zip(*loss_mom)\n",
        "    plt.plot(epoch_1, losss_1, label=\"Sgd\", color='blue')\n",
        "    plt.plot(epoch_2, losss_2, label=\"Momentum\", color='pink')\n",
        "    plt.xlabel(\"Epochs\")\n",
        "    plt.ylabel(\"Loss\")\n",
        "    plt.title(\"Loss comparison :Sgd VS Momentum\")\n",
        "    plt.legend()\n",
        "    plt.show()\n",
        "hidden_size=128\n",
        "X=x_train.reshape(x_train.shape[0], -1)\n",
        "compare_sgd_and_momentum(X,y_train,hidden_size,50)"
      ]
    },
    {
      "cell_type": "markdown",
      "metadata": {
        "id": "OhaXIjuClXP6"
      },
      "source": [
        "## Mini-Batch Gradient Descent"
      ]
    },
    {
      "cell_type": "markdown",
      "metadata": {
        "id": "wpBVHm6elXP6"
      },
      "source": [
        "### Mini-Batch Size Optimization"
      ]
    },
    {
      "cell_type": "markdown",
      "metadata": {
        "id": "rUDwKXOAgc2h"
      },
      "source": [
        "TODO: Investigate how different mini-batch sizes affect model performance, you can set up an experiment where you train the same model using various mini-batch sizes.\n",
        "\n",
        "Steps for Implementing the Mini-Batch Size Experiment\n",
        "\n",
        "1. Modify the Training Loop: Update the training loop to use mini-batches.\n",
        "2. Train the Model: Run the training process with a set of predefined mini-batch sizes.\n",
        "3. Evaluate Performance: Track training time and accuracy for each mini-batch size.\n",
        "4. Print the training losses and accuracies for comparison."
      ]
    },
    {
      "cell_type": "markdown",
      "metadata": {
        "id": "sz2dJu_PgvJH"
      },
      "source": [
        "1. Modify the Training Loop for Mini-Batches\n"
      ]
    },
    {
      "cell_type": "code",
      "execution_count": 81,
      "metadata": {
        "id": "2eBWqUKwgqqN"
      },
      "outputs": [],
      "source": [
        "def compute_accuracy(y_true, y_pred):\n",
        "    predicted_classes = np.argmax(y_pred, axis=1)\n",
        "    true_classes = np.argmax(y_true, axis=1)\n",
        "    correct_predictions = np.sum(predicted_classes == true_classes)\n",
        "    accuracy = correct_predictions / y_true.shape[0]\n",
        "    return accuracy\n",
        "def train_model_with_mini_batches(X_train, y_train, hidden_size, epochs=50, learning_rate=0.01, batch_size=32):\n",
        "    \"\"\"\n",
        "    Train the neural network model using mini-batches.\n",
        "\n",
        "    Parameters:\n",
        "    - X_train: Training data.\n",
        "    - y_train: One-hot encoded labels.\n",
        "    - hidden_size: Number of neurons in the hidden layer.\n",
        "    - epochs: Number of training epochs.\n",
        "    - learning_rate: Learning rate for optimization.\n",
        "    - batch_size: Size of mini-batches.\n",
        "\n",
        "    Returns:\n",
        "    - loss_history: List of loss values over epochs.\n",
        "    - accuracy_history: List of accuracy values over epochs.\n",
        "    \"\"\"\n",
        "    parameters = initialize_parameters(X_train.shape[1], hidden_size, y_train.shape[1])\n",
        "    loss_history = []\n",
        "    accuracy_history = []\n",
        "    for epoch in range(epochs):\n",
        "        indices = np.arange(X_train.shape[0])\n",
        "        np.random.shuffle(indices)\n",
        "        X_train_shuffled = X_train[indices]\n",
        "        y_train_shuffled = y_train[indices]\n",
        "        for i in range(0, X_train.shape[0], batch_size):\n",
        "            X_batch = X_train_shuffled[i:i + batch_size]\n",
        "            y_batch = y_train_shuffled[i:i + batch_size]\n",
        "            A2, cache = forward_propagation(X_batch, parameters)\n",
        "            loss = compute_loss(y_batch, A2)\n",
        "            gradients = backward_propagation(X_batch, y_batch, parameters, cache)\n",
        "            parameters = update_parameters_with_sgd(parameters, gradients, learning_rate)\n",
        "        A2_full, _ = forward_propagation(X_train, parameters)\n",
        "        loss_epoch = compute_loss(y_train, A2_full)\n",
        "        accuracy_epoch = compute_accuracy(y_train, A2_full)\n",
        "        loss_history.append(loss_epoch)\n",
        "        accuracy_history.append(accuracy_epoch)\n",
        "        if(epoch %10 ==0):\n",
        "          acc = accuracy_epoch * 100\n",
        "          print(f\"Epoch {epoch }/{epochs} - Loss: {loss_epoch:.4f}, Accuracy: {acc }\")\n",
        "\n",
        "    return loss_history, accuracy_history\n"
      ]
    },
    {
      "cell_type": "markdown",
      "metadata": {
        "id": "ja1aWHjwgwMl"
      },
      "source": [
        "2. Train the Model with Different Mini-Batch Sizes\n"
      ]
    },
    {
      "cell_type": "code",
      "execution_count": 82,
      "metadata": {
        "colab": {
          "base_uri": "https://localhost:8080/"
        },
        "id": "R7vvj-y_is_k",
        "outputId": "0b7cdd81-fbe2-46de-c4ad-f1a4ce654533"
      },
      "outputs": [
        {
          "output_type": "stream",
          "name": "stdout",
          "text": [
            "\n",
            "Training with Mini-Batch Size: 16\n",
            "Epoch 0/50 - Loss: 0.4388, Accuracy: 85.42999999999999\n",
            "Epoch 10/50 - Loss: 0.2808, Accuracy: 90.62833333333333\n",
            "Epoch 20/50 - Loss: 0.2286, Accuracy: 92.31166666666667\n",
            "Epoch 30/50 - Loss: 0.1828, Accuracy: 93.98833333333333\n",
            "Epoch 40/50 - Loss: 0.1942, Accuracy: 93.78166666666667\n",
            "final loss: 0.15634041059967452,final accuracy : 0.9481666666666667 \n",
            "\n",
            "Training with Mini-Batch Size: 32\n",
            "Epoch 0/50 - Loss: 0.4396, Accuracy: 85.03666666666668\n",
            "Epoch 10/50 - Loss: 0.2871, Accuracy: 90.33\n",
            "Epoch 20/50 - Loss: 0.2381, Accuracy: 92.00166666666667\n",
            "Epoch 30/50 - Loss: 0.1926, Accuracy: 93.66\n",
            "Epoch 40/50 - Loss: 0.1888, Accuracy: 93.83\n",
            "final loss: 0.17172165020953942,final accuracy : 0.9435333333333333 \n",
            "\n",
            "Training with Mini-Batch Size: 64\n",
            "Epoch 0/50 - Loss: 0.4710, Accuracy: 83.91666666666666\n",
            "Epoch 10/50 - Loss: 0.2893, Accuracy: 89.985\n",
            "Epoch 20/50 - Loss: 0.2596, Accuracy: 91.39166666666667\n",
            "Epoch 30/50 - Loss: 0.2214, Accuracy: 92.77333333333333\n",
            "Epoch 40/50 - Loss: 0.2084, Accuracy: 92.96\n",
            "final loss: 0.19440122782763197,final accuracy : 0.9364333333333333 \n"
          ]
        }
      ],
      "source": [
        "def compare_mini_batch_sizes(X_train, y_train, hidden_size, epochs=50, batch_sizes=[16, 32, 64]):\n",
        "    \"\"\"\n",
        "    Compare the performance of different mini-batch sizes and print results.\n",
        "\n",
        "    Parameters:\n",
        "    - X_train: Training data.\n",
        "    - y_train: One-hot encoded labels.\n",
        "    - hidden_size: Number of neurons in the hidden layer.\n",
        "    - epochs: Number of training epochs.\n",
        "    - batch_sizes: List of mini-batch sizes to test.\n",
        "    \"\"\"\n",
        "    results = {}\n",
        "\n",
        "    for batch_size in batch_sizes:\n",
        "        print(f\"\\nTraining with Mini-Batch Size: {batch_size}\")\n",
        "        loss_history, accuracy_history = train_model_with_mini_batches(X_train, y_train, hidden_size, epochs, batch_size=batch_size)\n",
        "        print(f\"final loss: {loss_history[epochs-1]},final accuracy : {accuracy_history[epochs-1]} \")\n",
        "X = x_train.reshape(x_train.shape[0], -1)\n",
        "compare_mini_batch_sizes(X, y_train, 128 , epochs=50, batch_sizes=[16, 32, 64])\n"
      ]
    },
    {
      "cell_type": "markdown",
      "metadata": {
        "id": "wb3WXFgMlXP7"
      },
      "source": [
        "### Mini-Batch vs. Full-Batch Gradient Descent\n"
      ]
    },
    {
      "cell_type": "markdown",
      "metadata": {
        "id": "vVvy9f6PlPCS"
      },
      "source": [
        "TODO: Compare the efficiency and performance of mini-batch gradient descent against full-batch gradient descent.\n",
        "\n",
        "1. Implement Full-Batch Gradient Descent: Ensure you have a full-batch gradient descent implementation.\n",
        "\n",
        "2. Modify the Training Loop: Allow the training loop to handle both mini-batch and full-batch scenarios.\n",
        "\n",
        "3. Train the Model: Run the training process using both methods and track their performance.\n",
        "\n",
        "4. Print Results: Display the final loss and accuracy for both methods along with training times."
      ]
    },
    {
      "cell_type": "code",
      "execution_count": 83,
      "metadata": {
        "id": "tlTYBB2tlgBG"
      },
      "outputs": [],
      "source": [
        "def train_model_full_batch(X_train, y_train, hidden_size, epochs=50, learning_rate=0.01):\n",
        "    \"\"\"\n",
        "    Train the neural network model using full-batch gradient descent.\n",
        "\n",
        "    Parameters:\n",
        "    - X_train: Training data.\n",
        "    - y_train: One-hot encoded labels.\n",
        "    - hidden_size: Number of neurons in the hidden layer.\n",
        "    - epochs: Number of training epochs.\n",
        "    - learning_rate: Learning rate for optimization.\n",
        "\n",
        "    Returns:\n",
        "    - loss_history: List of loss values over epochs.\n",
        "    - accuracy_history: List of accuracy values over epochs.\n",
        "    \"\"\"\n",
        "    parameters = initialize_parameters(X_train.shape[1], hidden_size, y_train.shape[1])\n",
        "    loss_history = []\n",
        "    accuracy_history = []\n",
        "\n",
        "    for epoch in range(epochs):\n",
        "        A2, cache = forward_propagation(X_train, parameters)\n",
        "        loss = compute_loss(y_train, A2)\n",
        "        gradients = backward_propagation(X_train, y_train, parameters, cache)\n",
        "        parameters = update_parameters_with_sgd(parameters, gradients, learning_rate)\n",
        "        accuracy_epoch = compute_accuracy(y_train, A2)\n",
        "        loss_history.append(loss)\n",
        "        accuracy_history.append(accuracy_epoch)\n",
        "        acc = accuracy_epoch *100\n",
        "        if(epoch % 10 ==0):\n",
        "          print(f\"Epoch {epoch}/{epochs} - Loss: {loss:.4f}, Accuracy: {acc}\")\n",
        "\n",
        "    return loss_history, accuracy_history\n"
      ]
    },
    {
      "cell_type": "code",
      "execution_count": 88,
      "metadata": {
        "colab": {
          "base_uri": "https://localhost:8080/"
        },
        "id": "YIb4-9eGllGi",
        "outputId": "896cea47-ef4d-4530-e31e-431938ec504f"
      },
      "outputs": [
        {
          "output_type": "stream",
          "name": "stdout",
          "text": [
            "\n",
            "Training with Mini-Batch Gradient Descent\n",
            "Epoch 0/50 - Loss: 0.4396, Accuracy: 85.03666666666668\n",
            "Epoch 10/50 - Loss: 0.2871, Accuracy: 90.33\n",
            "Epoch 20/50 - Loss: 0.2381, Accuracy: 92.00166666666667\n",
            "Epoch 30/50 - Loss: 0.1926, Accuracy: 93.66\n",
            "Epoch 40/50 - Loss: 0.1888, Accuracy: 93.83\n",
            "final loss: 0.17172165020953942,final accuracy : 0.9435333333333333 time : 166.98220109939575\n",
            "\n",
            "Training with Full-Batch Gradient Descent\n",
            "Epoch 0/50 - Loss: 0.7071, Accuracy: 14.745\n"
          ]
        },
        {
          "output_type": "stream",
          "name": "stderr",
          "text": [
            "<ipython-input-51-42886578c5f9>:34: RuntimeWarning: overflow encountered in exp\n",
            "  return 1/(1+ np.exp(-x))\n"
          ]
        },
        {
          "output_type": "stream",
          "name": "stdout",
          "text": [
            "Epoch 10/50 - Loss: 0.7114, Accuracy: 10.015\n",
            "Epoch 20/50 - Loss: 0.7312, Accuracy: 10.021666666666667\n",
            "Epoch 30/50 - Loss: 0.7420, Accuracy: 12.583333333333332\n",
            "Epoch 40/50 - Loss: 0.7705, Accuracy: 10.01\n",
            "final loss: 0.7880234547183363,final accuracy : 0.10008333333333333 time : 60.19332575798035\n"
          ]
        }
      ],
      "source": [
        "import time\n",
        "def compare_mini_batch_and_full_batch(X_train, y_train, hidden_size, epochs=50, batch_size=32):\n",
        "    \"\"\"\n",
        "    Compare the performance of mini-batch gradient descent against full-batch gradient descent.\n",
        "\n",
        "    Parameters:\n",
        "    - X_train: Training data.\n",
        "    - y_train: One-hot encoded labels.\n",
        "    - hidden_size: Number of neurons in the hidden layer.\n",
        "    - epochs: Number of training epochs.\n",
        "    - batch_size: Size of mini-batches for mini-batch gradient descent.\n",
        "    \"\"\"\n",
        "    print(\"\\nTraining with Mini-Batch Gradient Descent\")\n",
        "    time1=time.time()\n",
        "    mini_batch_loss, mini_batch_accuracy = train_model_with_mini_batches(X_train, y_train, hidden_size, epochs, batch_size=batch_size)\n",
        "    time2=time.time()\n",
        "    print(f\"final loss: {mini_batch_loss[epochs-1]},final accuracy : {mini_batch_accuracy[epochs-1]} time : {time2-time1}\")\n",
        "    print(\"\\nTraining with Full-Batch Gradient Descent\")\n",
        "    time1=time.time()\n",
        "    full_batch_loss, full_batch_accuracy = train_model_full_batch(X_train, y_train, hidden_size, epochs)\n",
        "    time2=time.time()\n",
        "    print(f\"final loss: {full_batch_loss[epochs-1]},final accuracy : {full_batch_accuracy[epochs-1]} time : {time2-time1}\")\n",
        "\n",
        "X = x_train.reshape(x_train.shape[0], -1)\n",
        "compare_mini_batch_and_full_batch(X, y_train, 128 , epochs=50, batch_size=32)"
      ]
    }
  ],
  "metadata": {
    "colab": {
      "provenance": [],
      "history_visible": true
    },
    "kernelspec": {
      "display_name": "Python 3",
      "name": "python3"
    },
    "language_info": {
      "codemirror_mode": {
        "name": "ipython",
        "version": 3
      },
      "file_extension": ".py",
      "mimetype": "text/x-python",
      "name": "python",
      "nbconvert_exporter": "python",
      "pygments_lexer": "ipython3",
      "version": "3.10.5"
    }
  },
  "nbformat": 4,
  "nbformat_minor": 0
}